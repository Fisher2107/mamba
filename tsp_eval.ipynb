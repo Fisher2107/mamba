{
 "cells": [
  {
   "cell_type": "code",
   "execution_count": 1,
   "metadata": {},
   "outputs": [
    {
     "name": "stdout",
     "output_type": "stream",
     "text": [
      "torch.Size([2, 5, 2])\n"
     ]
    },
    {
     "data": {
      "text/plain": [
       "tensor([[0, 3, 0, 0, 0],\n",
       "        [0, 1, 0, 0, 0]])"
      ]
     },
     "execution_count": 1,
     "metadata": {},
     "output_type": "execute_result"
    }
   ],
   "source": [
    "from benchmark_solvers import greedy_tsp\n",
    "import torch\n",
    "\n",
    "\n",
    "coord_dim = 2\n",
    "city_count = 5\n",
    "test_size=2000\n",
    "test_data_loc=f'mamba/data/start_2/test_rand_{test_size}_{city_count}_{coord_dim}.pt'\n",
    "\n",
    "test_data = torch.load(test_data_loc).to('cpu')\n",
    "test_data = test_data[:,:-1] # removes starting token\n",
    "print(test_data[:2].shape)\n",
    "greedy_tsp(test_data[:2])"
   ]
  }
 ],
 "metadata": {
  "language_info": {
   "name": "python"
  }
 },
 "nbformat": 4,
 "nbformat_minor": 2
}
