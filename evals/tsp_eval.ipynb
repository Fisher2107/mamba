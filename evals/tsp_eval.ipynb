{
 "cells": [
  {
   "cell_type": "code",
   "execution_count": 3,
   "metadata": {},
   "outputs": [
    {
     "name": "stdout",
     "output_type": "stream",
     "text": [
      "{'bsz': 600, 'd_model': 64, 'coord_dim': 2, 'nb_layers': 4, 'mlp_cls': 'gatedmlp', 'city_count': 5, 'deterministic': False, 'fourier_scale': None, 'nb_epochs': 500, 'test_size': 2000, 'nb_batch_per_epoch': 10, 'save_loc': 'checkpoints/embed/Linear_mlp_4lay', 'test_data_loc': 'data/start_2/test_rand_2000_5_2.pt', 'recycle_data': 0, 'checkpoint': None, 'B': None}\n"
     ]
    },
    {
     "data": {
      "text/plain": [
       "\"args.mlp_cls = 'identity'\\nmodel_train = MambaFull(args.d_model, args.city_count, args.nb_layers, args.coord_dim, args.mlp_cls).to(device)\\nmodel_train.load_state_dict(checkpoint['model_state_dict'])\\nmodel_train.eval()\\n\\n\\nmean_tour_length_list = [tensor.cpu().numpy() for tensor in checkpoint['mean_tour_length_list']]\\nmean_tour_length_list2 = [tensor.cpu().numpy() for tensor in checkpoint2['mean_tour_length_list']]\\nmean_tour_length_list3 = [tensor.cpu().numpy() for tensor in checkpoint3['mean_tour_length_list']]\\nprint(checkpoint['epoch'])\\nprint(checkpoint['time_tot'])\\nplt.plot(mean_tour_length_list)\\nplt.plot(mean_tour_length_list2)\\nplt.plot(mean_tour_length_list3)\\n\\ngreedy = greedy_tsp(test_data)[0].item()\\nexact = exact_solver(test_data).item()\\n\\n\\nplt.axhline(y=greedy, color='r', linestyle='--', label='Greedy Solver')\\nplt.axhline(y=exact, color='g', linestyle='--', label='Exact Solver')\\n\\n# Add labels to the axes\\nplt.xlim(0, 300)\\nplt.xlabel('Epoch')\\nplt.ylabel('Mean Tour Length')\\n\\nplt.legend()\\nplt.savefig('mamba/figs/mean_tour_length_RL.pdf')\\nplt.show()\\n\\n#print(greedy_tsp(test_data_loc))\\n#print(exact_solver(test_data_loc))\""
      ]
     },
     "execution_count": 3,
     "metadata": {},
     "output_type": "execute_result"
    }
   ],
   "source": [
    "#from benchmark_solvers import greedy_tsp,exact_solver\n",
    "#from model import MambaFull\n",
    "import torch\n",
    "import torch.nn\n",
    "#import matplotlib.pyplot as plt\n",
    "\n",
    "coord_dim = 2\n",
    "city_count = 5\n",
    "test_size=2000\n",
    "device = 'cpu'\n",
    "test_data_loc=f'mamba/data/start_2/test_rand_{test_size}_{city_count}_{coord_dim}.pt'\n",
    "#test_data = torch.load(test_data_loc).to(device)\n",
    "\n",
    "class DotDict(dict):\n",
    "    def __init__(self, **kwds):\n",
    "        self.update(kwds)\n",
    "        self.__dict__ = self\n",
    "\n",
    "checkpoint = torch.load('mamba/checkpoints/embed/Linear_mlp_4lay_20-06_13-11.pt')\n",
    "checkpoint2 = torch.load('mamba/checkpoints/embed/Linear2_18-06_12-57.pt')\n",
    "checkpoint3 = torch.load('mamba/checkpoints/embed/Linear3_18-06_13-49.pt')\n",
    "\n",
    "args = checkpoint['args']\n",
    "print(args)\n",
    "'''args.mlp_cls = 'identity'\n",
    "model_train = MambaFull(args.d_model, args.city_count, args.nb_layers, args.coord_dim, args.mlp_cls).to(device)\n",
    "model_train.load_state_dict(checkpoint['model_state_dict'])\n",
    "model_train.eval()\n",
    "\n",
    "\n",
    "mean_tour_length_list = [tensor.cpu().numpy() for tensor in checkpoint['mean_tour_length_list']]\n",
    "mean_tour_length_list2 = [tensor.cpu().numpy() for tensor in checkpoint2['mean_tour_length_list']]\n",
    "mean_tour_length_list3 = [tensor.cpu().numpy() for tensor in checkpoint3['mean_tour_length_list']]\n",
    "print(checkpoint['epoch'])\n",
    "print(checkpoint['time_tot'])\n",
    "plt.plot(mean_tour_length_list)\n",
    "plt.plot(mean_tour_length_list2)\n",
    "plt.plot(mean_tour_length_list3)\n",
    "\n",
    "greedy = greedy_tsp(test_data)[0].item()\n",
    "exact = exact_solver(test_data).item()\n",
    "\n",
    "\n",
    "plt.axhline(y=greedy, color='r', linestyle='--', label='Greedy Solver')\n",
    "plt.axhline(y=exact, color='g', linestyle='--', label='Exact Solver')\n",
    "\n",
    "# Add labels to the axes\n",
    "plt.xlim(0, 300)\n",
    "plt.xlabel('Epoch')\n",
    "plt.ylabel('Mean Tour Length')\n",
    "\n",
    "plt.legend()\n",
    "plt.savefig('mamba/figs/mean_tour_length_RL.pdf')\n",
    "plt.show()\n",
    "\n",
    "#print(greedy_tsp(test_data_loc))\n",
    "#print(exact_solver(test_data_loc))'''"
   ]
  }
 ],
 "metadata": {
  "language_info": {
   "name": "python"
  }
 },
 "nbformat": 4,
 "nbformat_minor": 2
}
